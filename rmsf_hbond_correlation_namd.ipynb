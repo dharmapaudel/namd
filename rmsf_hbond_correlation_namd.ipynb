{
 "cells": [
  {
   "cell_type": "code",
   "execution_count": 1,
   "id": "70776cbe-a119-4c16-9644-a67a18a7be28",
   "metadata": {},
   "outputs": [
    {
     "name": "stdout",
     "output_type": "stream",
     "text": [
      "Pearson Correlation Coefficient: -0.20056592086776961\n"
     ]
    }
   ],
   "source": [
    "import numpy as np\n",
    "import re\n",
    "\n",
    "# Load RMSF data\n",
    "def load_rmsf(filename):\n",
    "    rmsf_dict = {}\n",
    "    with open(filename, \"r\") as f:\n",
    "        for line in f:\n",
    "            parts = line.strip().split()\n",
    "            if len(parts) == 2:\n",
    "                residue_index = int(parts[0])\n",
    "                rmsf_value = float(parts[1])\n",
    "                rmsf_dict[residue_index] = rmsf_value\n",
    "    return rmsf_dict\n",
    "\n",
    "# Load hydrogen bond occupancy data\n",
    "def load_hbond(filename):\n",
    "    hbond_dict = {}\n",
    "    with open(filename, \"r\") as f:\n",
    "        next(f)  # Skip header\n",
    "        for line in f:\n",
    "            parts = re.split(r'\\s+', line.strip())\n",
    "            if len(parts) == 3:\n",
    "                residue_info = parts[0]  # Example: \"SegPROA-PHE103-Main\"\n",
    "                occupancy = float(parts[2].strip('%')) / 100.0  # Convert to decimal\n",
    "                \n",
    "                # Extract residue number\n",
    "                match = re.search(r'PROA-(\\D+)(\\d+)', residue_info)\n",
    "                if match:\n",
    "                    residue_num = int(match.group(2))\n",
    "                    hbond_dict[residue_num] = occupancy\n",
    "    return hbond_dict\n",
    "\n",
    "# Compute correlation\n",
    "def compute_correlation(rmsf_dict, hbond_dict):\n",
    "    common_residues = set(rmsf_dict.keys()) & set(hbond_dict.keys())\n",
    "    if len(common_residues) > 1:\n",
    "        rmsf_values = np.array([rmsf_dict[res] for res in common_residues])\n",
    "        hbond_values = np.array([hbond_dict[res] for res in common_residues])\n",
    "        correlation = np.corrcoef(rmsf_values, hbond_values)[0, 1]\n",
    "        return correlation\n",
    "    return None\n",
    "\n",
    "# File paths\n",
    "rmsf_file = \"rmsf.dat\"\n",
    "hbond_file = \"hbond.dat\"\n",
    "\n",
    "# Load data\n",
    "rmsf_dict = load_rmsf(rmsf_file)\n",
    "hbond_dict = load_hbond(hbond_file)\n",
    "\n",
    "# Compute Pearson correlation\n",
    "correlation = compute_correlation(rmsf_dict, hbond_dict)\n",
    "print(\"Pearson Correlation Coefficient:\", correlation)"
   ]
  },
  {
   "cell_type": "code",
   "execution_count": null,
   "id": "8222879d-cb0a-4076-9a1f-35750a145e24",
   "metadata": {},
   "outputs": [],
   "source": []
  }
 ],
 "metadata": {
  "kernelspec": {
   "display_name": "Python 3 (ipykernel)",
   "language": "python",
   "name": "python3"
  },
  "language_info": {
   "codemirror_mode": {
    "name": "ipython",
    "version": 3
   },
   "file_extension": ".py",
   "mimetype": "text/x-python",
   "name": "python",
   "nbconvert_exporter": "python",
   "pygments_lexer": "ipython3",
   "version": "3.11.8"
  }
 },
 "nbformat": 4,
 "nbformat_minor": 5
}
